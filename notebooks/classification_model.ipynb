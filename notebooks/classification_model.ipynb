{
 "cells": [
  {
   "cell_type": "code",
   "execution_count": 1,
   "metadata": {},
   "outputs": [
    {
     "name": "stderr",
     "output_type": "stream",
     "text": [
      "C:\\Users\\a2305\\AppData\\Local\\Temp\\ipykernel_31228\\2046537031.py:1: DeprecationWarning: \n",
      "Pyarrow will become a required dependency of pandas in the next major release of pandas (pandas 3.0),\n",
      "(to allow more performant data types, such as the Arrow string type, and better interoperability with other libraries)\n",
      "but was not found to be installed on your system.\n",
      "If this would cause problems for you,\n",
      "please provide us feedback at https://github.com/pandas-dev/pandas/issues/54466\n",
      "        \n",
      "  import pandas as pd\n"
     ]
    }
   ],
   "source": [
    "import pandas as pd\n",
    "import numpy as np\n",
    "import matplotlib.pyplot as plt\n",
    "import json\n",
    "import itertools\n",
    "import joblib\n",
    "import yaml\n",
    "import pprint\n",
    "import sys\n",
    "\n",
    "from sklearn.model_selection import train_test_split\n",
    "from sklearn.linear_model import LogisticRegression\n",
    "from sklearn.metrics import confusion_matrix, accuracy_score, classification_report, f1_score, accuracy_score, log_loss, ConfusionMatrixDisplay\n",
    "\n",
    "sys.path.append('C:\\\\Users\\\\a2305\\\\Desktop\\\\repository_git_dvc\\\\classification_with_dvc')\n",
    "\n",
    "from src.report.visualization import plot_confusion_matrix\n",
    "from src.stages.data_load import data_load\n",
    "from src.stages.features_load import featurize\n",
    "\n"
   ]
  },
  {
   "cell_type": "code",
   "execution_count": 2,
   "metadata": {},
   "outputs": [],
   "source": [
    "with open('../params.yaml') as config_file:\n",
    "    config = yaml.safe_load(config_file)"
   ]
  },
  {
   "cell_type": "code",
   "execution_count": 3,
   "metadata": {},
   "outputs": [
    {
     "name": "stdout",
     "output_type": "stream",
     "text": [
      "{'base': {'random_state': 42},\n",
      " 'data': {'featurize_db': '../data/processed/features_diabetes.csv',\n",
      "          'raw_db': 'data/raw/raw_diabetes.csv',\n",
      "          'test_db': '../data/processed/test_diabetes.csv',\n",
      "          'test_size': 0.2,\n",
      "          'train_db': '../data/processed/train_diabetes.csv'},\n",
      " 'model': {'name': '../models/model.joblib'},\n",
      " 'reports': {'confusion_matrix_image': '../reports/confusion_matrix.png',\n",
      "             'metrics_file': '../reports/metrics.json'},\n",
      " 'train': {'clf_params': {'C_values': [0.01, 0.1, 0, 1],\n",
      "                          'max_iter': [50, 100, 200],\n",
      "                          'multi_class_options': ['ovr', 'multinomial'],\n",
      "                          'solver_options': ['newton-cg',\n",
      "                                             'lbfgs',\n",
      "                                             'liblinear',\n",
      "                                             'sag',\n",
      "                                             'saga']}}}\n"
     ]
    }
   ],
   "source": [
    "pprint.pprint(config)"
   ]
  },
  {
   "cell_type": "code",
   "execution_count": 4,
   "metadata": {},
   "outputs": [
    {
     "ename": "FileNotFoundError",
     "evalue": "[Errno 2] No such file or directory: 'params.yaml'",
     "output_type": "error",
     "traceback": [
      "\u001b[1;31m---------------------------------------------------------------------------\u001b[0m",
      "\u001b[1;31mFileNotFoundError\u001b[0m                         Traceback (most recent call last)",
      "Cell \u001b[1;32mIn[4], line 6\u001b[0m\n\u001b[0;32m      1\u001b[0m \u001b[38;5;66;03m# diabetes = pd.read_csv('https://github.com/YBIFoundation/Dataset/raw/main/Diabetes.csv')\u001b[39;00m\n\u001b[0;32m      2\u001b[0m \u001b[38;5;66;03m# diabetes.rename(columns={'diabetes':'target'}, inplace=True)\u001b[39;00m\n\u001b[0;32m      3\u001b[0m \u001b[38;5;66;03m# diabetes.to_csv('../data/raw/raw_diabetes.csv')\u001b[39;00m\n\u001b[0;32m      4\u001b[0m \u001b[38;5;66;03m# diabetes\u001b[39;00m\n\u001b[1;32m----> 6\u001b[0m \u001b[43mdata_load\u001b[49m\u001b[43m(\u001b[49m\u001b[43mconfig_path\u001b[49m\u001b[38;5;241;43m=\u001b[39;49m\u001b[38;5;124;43m'\u001b[39;49m\u001b[38;5;124;43mparams.yaml\u001b[39;49m\u001b[38;5;124;43m'\u001b[39;49m\u001b[43m)\u001b[49m\n",
      "File \u001b[1;32m~\\Desktop\\repository_git_dvc\\classification_with_dvc\\src\\stages\\data_load.py:8\u001b[0m, in \u001b[0;36mdata_load\u001b[1;34m(config_path)\u001b[0m\n\u001b[0;32m      6\u001b[0m \u001b[38;5;28;01mdef\u001b[39;00m \u001b[38;5;21mdata_load\u001b[39m(config_path: Text) \u001b[38;5;241m-\u001b[39m\u001b[38;5;241m>\u001b[39m \u001b[38;5;28;01mNone\u001b[39;00m:\n\u001b[1;32m----> 8\u001b[0m     \u001b[38;5;28;01mwith\u001b[39;00m \u001b[38;5;28;43mopen\u001b[39;49m\u001b[43m(\u001b[49m\u001b[38;5;124;43m'\u001b[39;49m\u001b[38;5;124;43mparams.yaml\u001b[39;49m\u001b[38;5;124;43m'\u001b[39;49m\u001b[43m)\u001b[49m \u001b[38;5;28;01mas\u001b[39;00m config_file:\n\u001b[0;32m      9\u001b[0m         config \u001b[38;5;241m=\u001b[39m yaml\u001b[38;5;241m.\u001b[39msafe_load(config_file)\n\u001b[0;32m     11\u001b[0m     diabetes \u001b[38;5;241m=\u001b[39m pd\u001b[38;5;241m.\u001b[39mread_csv(\u001b[38;5;124m'\u001b[39m\u001b[38;5;124mhttps://github.com/YBIFoundation/Dataset/raw/main/Diabetes.csv\u001b[39m\u001b[38;5;124m'\u001b[39m)\n",
      "\u001b[1;31mFileNotFoundError\u001b[0m: [Errno 2] No such file or directory: 'params.yaml'"
     ]
    }
   ],
   "source": [
    "# diabetes = pd.read_csv('https://github.com/YBIFoundation/Dataset/raw/main/Diabetes.csv')\n",
    "# diabetes.rename(columns={'diabetes':'target'}, inplace=True)\n",
    "# diabetes.to_csv('../data/raw/raw_diabetes.csv')\n",
    "# diabetes\n",
    "\n",
    "data_load(config_path='../params.yaml')"
   ]
  },
  {
   "cell_type": "code",
   "execution_count": null,
   "metadata": {},
   "outputs": [],
   "source": [
    "# diabetes_features = diabetes[[\n",
    "#     'pregnancies', 'glucose', 'diastolic', 'triceps',\n",
    "#     'insulin', 'bmi',\n",
    "#     'target'\n",
    "# ]]\n",
    "\n",
    "#diabetes_features.to_csv('../data/processed/features_diabetes.csv')\n",
    "\n",
    "featurize(config_path='../params.yaml')\n"
   ]
  },
  {
   "cell_type": "code",
   "execution_count": null,
   "metadata": {},
   "outputs": [],
   "source": []
  },
  {
   "cell_type": "code",
   "execution_count": null,
   "metadata": {},
   "outputs": [],
   "source": [
    "y = diabetes['target']"
   ]
  },
  {
   "cell_type": "code",
   "execution_count": null,
   "metadata": {},
   "outputs": [],
   "source": [
    "X = diabetes.drop(['target'],axis=1)"
   ]
  },
  {
   "cell_type": "code",
   "execution_count": null,
   "metadata": {},
   "outputs": [],
   "source": [
    "\n",
    "X_train, X_test, y_train, y_test = train_test_split(X,y, test_size=0.2, random_state=42)"
   ]
  },
  {
   "cell_type": "code",
   "execution_count": null,
   "metadata": {},
   "outputs": [],
   "source": [
    "trainset_path = '../data/processed/train_diabetes.csv'\n",
    "testset_path = '../data/processed/test_diabetes.csv'\n",
    "\n",
    "X_train.to_csv(trainset_path)\n",
    "X_test.to_csv(testset_path)\n"
   ]
  },
  {
   "cell_type": "code",
   "execution_count": null,
   "metadata": {},
   "outputs": [],
   "source": [
    "\n",
    "\n",
    "# Define the range of values for each parameter\n",
    "C_values = 0.01  # Values from 0.001 to 1000 logarithmically\n",
    "solver_options = ['newton-cg', 'lbfgs', 'liblinear', 'sag', 'saga']\n",
    "multi_class_options = ['ovr', 'multinomial']\n",
    "max_iter_values = np.random.randint(50, 500, 10)  # Random values between 50 and 500\n",
    "\n",
    "# Randomly select values for each parameters\n",
    "random_solver = np.random.choice(solver_options)\n",
    "random_multi_class = np.random.choice(multi_class_options)\n",
    "random_max_iter = np.random.choice(max_iter_values)\n",
    "\n",
    "# Create a dictionary with the randomly initialized parameters\n",
    "random_clf_params = {\n",
    "    'C': C_values,\n",
    "    'solver': random_solver,\n",
    "    'multi_class': random_multi_class,\n",
    "    'max_iter': random_max_iter\n",
    "}\n",
    "\n",
    "\n",
    "logreg = LogisticRegression(**random_clf_params, random_state=42)\n",
    "model_path = ('../models/model.joblib')\n",
    "joblib.dump(logreg, model_path)\n",
    "\n",
    "logreg.fit(X_train,y_train)"
   ]
  },
  {
   "cell_type": "code",
   "execution_count": null,
   "metadata": {},
   "outputs": [],
   "source": [
    "# Step 7 : predict model\n",
    "y_pred = logreg.predict(X_test)"
   ]
  },
  {
   "cell_type": "code",
   "execution_count": null,
   "metadata": {},
   "outputs": [],
   "source": [
    "# Step 8 : model accuracy\n"
   ]
  },
  {
   "cell_type": "code",
   "execution_count": null,
   "metadata": {},
   "outputs": [],
   "source": [
    "cm = confusion_matrix(y_test,y_pred)"
   ]
  },
  {
   "cell_type": "code",
   "execution_count": null,
   "metadata": {},
   "outputs": [],
   "source": [
    "cm_plot = plot_confusion_matrix(cm, target_names=['not_diabetes','diabetes'], normalize=False)"
   ]
  },
  {
   "cell_type": "code",
   "execution_count": null,
   "metadata": {},
   "outputs": [],
   "source": [
    "accuracy_score(y_test,y_pred)"
   ]
  },
  {
   "cell_type": "code",
   "execution_count": null,
   "metadata": {},
   "outputs": [],
   "source": [
    "print(classification_report(y_test,y_pred))"
   ]
  },
  {
   "cell_type": "code",
   "execution_count": null,
   "metadata": {},
   "outputs": [],
   "source": [
    "f1 = f1_score(y_true=y_test, y_pred=y_pred, average='macro')\n",
    "accuracy = accuracy_score(y_true=y_test, y_pred=y_pred)\n",
    "loss = log_loss(y_true=y_test, y_pred=y_pred)"
   ]
  },
  {
   "cell_type": "code",
   "execution_count": null,
   "metadata": {},
   "outputs": [],
   "source": [
    "metrics_file = '../reports/metrics.json'\n",
    "\n",
    "metrics = {\n",
    "    'f1': f1,\n",
    "    'accuracy': accuracy,\n",
    "    'loss': loss\n",
    "}\n",
    "\n",
    "with open(metrics_file, 'w') as mf:\n",
    "    json.dump(\n",
    "        obj=metrics,\n",
    "        fp=mf,\n",
    "        indent=4\n",
    "    )"
   ]
  },
  {
   "cell_type": "code",
   "execution_count": null,
   "metadata": {},
   "outputs": [],
   "source": [
    "# Save confusion matrix image\n",
    "confusion_matrix_image = '../reports/confusion_matrix.png'\n",
    "cm_plot.savefig(confusion_matrix_image)"
   ]
  },
  {
   "cell_type": "code",
   "execution_count": null,
   "metadata": {},
   "outputs": [],
   "source": []
  }
 ],
 "metadata": {
  "kernelspec": {
   "display_name": "Python 3",
   "language": "python",
   "name": "python3"
  },
  "language_info": {
   "codemirror_mode": {
    "name": "ipython",
    "version": 3
   },
   "file_extension": ".py",
   "mimetype": "text/x-python",
   "name": "python",
   "nbconvert_exporter": "python",
   "pygments_lexer": "ipython3",
   "version": "3.11.1"
  }
 },
 "nbformat": 4,
 "nbformat_minor": 2
}
