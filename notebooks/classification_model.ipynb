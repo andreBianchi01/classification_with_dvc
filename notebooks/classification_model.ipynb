{
 "cells": [
  {
   "cell_type": "code",
   "execution_count": 1,
   "metadata": {},
   "outputs": [],
   "source": [
    "import yaml\n",
    "import pprint\n",
    "import sys\n",
    "\n",
    "sys.path.append('C:\\\\Users\\\\a2305\\\\Desktop\\\\repository_git_dvc\\\\classification_with_dvc')\n",
    "\n",
    "from src.report.visualization import plot_confusion_matrix\n",
    "from src.stages.data_load import data_load\n",
    "from src.stages.features_load import featurize\n",
    "from src.stages.data_split import split_dataset\n",
    "from src.stages.train import train_model\n",
    "from src.stages.evaluation import evaluate_model"
   ]
  },
  {
   "cell_type": "markdown",
   "metadata": {},
   "source": [
    "### go to project folder root"
   ]
  },
  {
   "cell_type": "code",
   "execution_count": 2,
   "metadata": {},
   "outputs": [
    {
     "name": "stdout",
     "output_type": "stream",
     "text": [
      "c:\\Users\\a2305\\Desktop\\repository_git_dvc\\classification_with_dvc\n"
     ]
    }
   ],
   "source": [
    "%cd .. "
   ]
  },
  {
   "cell_type": "code",
   "execution_count": 3,
   "metadata": {},
   "outputs": [],
   "source": [
    "with open('params.yaml') as config_file:\n",
    "    config = yaml.safe_load(config_file)"
   ]
  },
  {
   "cell_type": "code",
   "execution_count": 4,
   "metadata": {},
   "outputs": [
    {
     "name": "stdout",
     "output_type": "stream",
     "text": [
      "{'base': {'random_state': 42},\n",
      " 'data_load': {'raw_db': 'data/raw/raw_diabetes.csv'},\n",
      " 'data_split': {'test_db': 'data/processed/test_diabetes.csv',\n",
      "                'test_size': 0.2,\n",
      "                'train_db': 'data/processed/train_diabetes.csv'},\n",
      " 'featurize': {'featurize_db': 'data/processed/features_diabetes.csv',\n",
      "               'target_column': 'target'},\n",
      " 'model': {'path': 'models/model.joblib'},\n",
      " 'reports': {'confusion_matrix_image': 'reports/confusion_matrix.png',\n",
      "             'metrics_file': 'reports/metrics.json'},\n",
      " 'train': {'cv': 3,\n",
      "           'estimators': {'logreg': {'param_grid': {'C': [0.01, 0.1, 0, 1],\n",
      "                                                    'max_iter': [50, 100, 200],\n",
      "                                                    'multi_class': ['ovr',\n",
      "                                                                    'multinomial'],\n",
      "                                                    'solver': ['newton-cg',\n",
      "                                                               'lbfgs',\n",
      "                                                               'liblinear',\n",
      "                                                               'sag',\n",
      "                                                               'saga']}},\n",
      "                          'randomForest': {'param_grid': {'max_depth': [10,\n",
      "                                                                        20,\n",
      "                                                                        30],\n",
      "                                                          'n_estimators': [50,\n",
      "                                                                           100,\n",
      "                                                                           200]}},\n",
      "                          'svm': {'param_grid': {'C_values': 'np.logspace(-3, '\n",
      "                                                             '3, 7)',\n",
      "                                                 'degree_values': [2, 3, 4],\n",
      "                                                 'kernel': ['linear',\n",
      "                                                            'poly',\n",
      "                                                            'rbf',\n",
      "                                                            'sigmoid']}}},\n",
      "           'estimators_used': 'randomForest'}}\n"
     ]
    }
   ],
   "source": [
    "pprint.pprint(config)"
   ]
  },
  {
   "cell_type": "code",
   "execution_count": 5,
   "metadata": {},
   "outputs": [
    {
     "name": "stdout",
     "output_type": "stream",
     "text": [
      "data_load Completato!\n"
     ]
    }
   ],
   "source": [
    "# diabetes = pd.read_csv('https://github.com/YBIFoundation/Dataset/raw/main/Diabetes.csv')\n",
    "# diabetes.rename(columns={'diabetes':'target'}, inplace=True)\n",
    "# diabetes.to_csv('../data/raw/raw_diabetes.csv')\n",
    "# diabetes\n",
    "\n",
    "data_load(config_path=\"params.yaml\")\n",
    "# or\n",
    "# !python src/stages/data_load.py --config=params.yaml"
   ]
  },
  {
   "cell_type": "code",
   "execution_count": 6,
   "metadata": {},
   "outputs": [
    {
     "name": "stdout",
     "output_type": "stream",
     "text": [
      "featurize Completato!\n"
     ]
    }
   ],
   "source": [
    "# diabetes_features = diabetes[[\n",
    "#     'pregnancies', 'glucose', 'diastolic', 'triceps',\n",
    "#     'insulin', 'bmi',\n",
    "#     'target'\n",
    "# ]]\n",
    "\n",
    "#diabetes_features.to_csv('../data/processed/features_diabetes.csv')\n",
    "\n",
    "featurize(config_path='params.yaml')\n"
   ]
  },
  {
   "cell_type": "code",
   "execution_count": 7,
   "metadata": {},
   "outputs": [
    {
     "name": "stdout",
     "output_type": "stream",
     "text": [
      "data_split completato!\n"
     ]
    }
   ],
   "source": [
    "# y = diabetes['target']\n",
    "# X = diabetes.drop(['target'],axis=1)\n",
    "# X_train, X_test, y_train, y_test = train_test_split(X,y, test_size=0.2, random_state=42)\n",
    "\n",
    "# trainset_path = '../data/processed/train_diabetes.csv'\n",
    "# testset_path = '../data/processed/test_diabetes.csv'\n",
    "\n",
    "# X_train.to_csv(trainset_path)\n",
    "# X_test.to_csv(testset_path)\n",
    "\n",
    "split_dataset(config_path='params.yaml')"
   ]
  },
  {
   "cell_type": "code",
   "execution_count": 8,
   "metadata": {},
   "outputs": [
    {
     "name": "stdout",
     "output_type": "stream",
     "text": [
      "Fitting 3 folds for each of 9 candidates, totalling 27 fits\n"
     ]
    },
    {
     "name": "stdout",
     "output_type": "stream",
     "text": [
      "train Completato!\n"
     ]
    }
   ],
   "source": [
    "\n",
    "\n",
    "# # Define the range of values for each parameter\n",
    "# C_values = 0.01  # Values from 0.001 to 1000 logarithmically\n",
    "# solver_options = ['newton-cg', 'lbfgs', 'liblinear', 'sag', 'saga']\n",
    "# multi_class_options = ['ovr', 'multinomial']\n",
    "# max_iter_values = np.random.randint(50, 500, 10)  # Random values between 50 and 500\n",
    "\n",
    "# # Randomly select values for each parameters\n",
    "# random_solver = np.random.choice(solver_options)\n",
    "# random_multi_class = np.random.choice(multi_class_options)\n",
    "# random_max_iter = np.random.choice(max_iter_values)\n",
    "\n",
    "# # Create a dictionary with the randomly initialized parameters\n",
    "# random_clf_params = {\n",
    "#     'C': C_values,\n",
    "#     'solver': random_solver,\n",
    "#     'multi_class': random_multi_class,\n",
    "#     'max_iter': random_max_iter\n",
    "# }\n",
    "\n",
    "\n",
    "# logreg = LogisticRegression(**random_clf_params, random_state=42)\n",
    "# model_path = ('../models/model.joblib')\n",
    "# joblib.dump(logreg, model_path)\n",
    "\n",
    "# logreg.fit(X_train,y_train)\n",
    "\n",
    "# # Step 7 : predict model\n",
    "# y_pred = logreg.predict(X_test)\n",
    "\n",
    "\n",
    "train_model(config_path='params.yaml')"
   ]
  },
  {
   "cell_type": "code",
   "execution_count": 9,
   "metadata": {},
   "outputs": [
    {
     "data": {
      "image/png": "[encoded data removed]",
      "text/plain": [
       "<Figure size 800x600 with 2 Axes>"
      ]
     },
     "metadata": {},
     "output_type": "display_data"
    }
   ],
   "source": [
    "# cm = confusion_matrix(y_test,y_pred)\n",
    "# cm_plot = plot_confusion_matrix(cm, target_names=['not_diabetes','diabetes'], normalize=False)\n",
    "# accuracy_score(y_test,y_pred)\n",
    "# print(classification_report(y_test,y_pred))\n",
    "# f1 = f1_score(y_true=y_test, y_pred=y_pred, average='macro')\n",
    "# accuracy = accuracy_score(y_true=y_test, y_pred=y_pred)\n",
    "# loss = log_loss(y_true=y_test, y_pred=y_pred)\n",
    "\n",
    "# metrics_file = '../reports/metrics.json'\n",
    "\n",
    "# metrics = {\n",
    "#     'f1': f1,\n",
    "#     'accuracy': accuracy,\n",
    "#     'loss': loss\n",
    "# }\n",
    "\n",
    "# with open(metrics_file, 'w') as mf:\n",
    "#     json.dump(\n",
    "#         obj=metrics,\n",
    "#         fp=mf,\n",
    "#         indent=4\n",
    "#     )\n",
    "# # Save confusion matrix image\n",
    "# confusion_matrix_image = '../reports/confusion_matrix.png'\n",
    "# cm_plot.savefig(confusion_matrix_image)\n",
    "\n",
    "evaluate_model(config_path='params.yaml')"
   ]
  }
 ],
 "metadata": {
  "kernelspec": {
   "display_name": "Python 3",
   "language": "python",
   "name": "python3"
  },
  "language_info": {
   "codemirror_mode": {
    "name": "ipython",
    "version": 3
   },
   "file_extension": ".py",
   "mimetype": "text/x-python",
   "name": "python",
   "nbconvert_exporter": "python",
   "pygments_lexer": "ipython3",
   "version": "3.11.1"
  }
 },
 "nbformat": 4,
 "nbformat_minor": 2
}
